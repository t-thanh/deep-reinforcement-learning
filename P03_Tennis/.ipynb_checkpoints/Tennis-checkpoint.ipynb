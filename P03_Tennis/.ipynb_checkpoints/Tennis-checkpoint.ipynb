{
 "cells": [
  {
   "cell_type": "markdown",
   "metadata": {},
   "source": [
    "# Collaboration and Competition\n",
    "\n",
    "---\n",
    "\n",
    "You are welcome to use this coding environment to train your agent for the project.  Follow the instructions below to get started!\n",
    "\n",
    "### 1. Start the Environment\n",
    "\n",
    "Run the next code cell to install a few packages.  This line will take a few minutes to run!"
   ]
  },
  {
   "cell_type": "code",
   "execution_count": 1,
   "metadata": {},
   "outputs": [],
   "source": [
    "#!pip -q install ./python"
   ]
  },
  {
   "cell_type": "markdown",
   "metadata": {},
   "source": [
    "The environment is already saved in the Workspace and can be accessed at the file path provided below. "
   ]
  },
  {
   "cell_type": "code",
   "execution_count": 2,
   "metadata": {},
   "outputs": [
    {
     "name": "stderr",
     "output_type": "stream",
     "text": [
      "INFO:unityagents:\n",
      "'Academy' started successfully!\n",
      "Unity Academy name: Academy\n",
      "        Number of Brains: 1\n",
      "        Number of External Brains : 1\n",
      "        Lesson number : 0\n",
      "        Reset Parameters :\n",
      "\t\t\n",
      "Unity brain name: TennisBrain\n",
      "        Number of Visual Observations (per agent): 0\n",
      "        Vector Observation space type: continuous\n",
      "        Vector Observation space size (per agent): 8\n",
      "        Number of stacked Vector Observation: 3\n",
      "        Vector Action space type: continuous\n",
      "        Vector Action space size (per agent): 2\n",
      "        Vector Action descriptions: , \n"
     ]
    }
   ],
   "source": [
    "from unityagents import UnityEnvironment\n",
    "import numpy as np\n",
    "\n",
    "env = UnityEnvironment(file_name=\"/path/to/Tennis_Linux_NoVis/Tennis.x86_64\")"
   ]
  },
  {
   "cell_type": "markdown",
   "metadata": {},
   "source": [
    "Environments contain **_brains_** which are responsible for deciding the actions of their associated agents. Here we check for the first brain available, and set it as the default brain we will be controlling from Python."
   ]
  },
  {
   "cell_type": "code",
   "execution_count": 3,
   "metadata": {},
   "outputs": [],
   "source": [
    "# get the default brain\n",
    "brain_name = env.brain_names[0]\n",
    "brain = env.brains[brain_name]"
   ]
  },
  {
   "cell_type": "markdown",
   "metadata": {},
   "source": [
    "### 2. Examine the State and Action Spaces\n",
    "\n",
    "Run the code cell below to print some information about the environment."
   ]
  },
  {
   "cell_type": "code",
   "execution_count": 4,
   "metadata": {},
   "outputs": [
    {
     "name": "stdout",
     "output_type": "stream",
     "text": [
      "Number of agents: 2\n",
      "Size of each action: 2\n",
      "There are 2 agents. Each observes a state with length: 24\n",
      "The state for the first agent looks like: [ 0.          0.          0.          0.          0.          0.\n",
      "  0.          0.          0.          0.          0.          0.\n",
      "  0.          0.          0.          0.         -6.65278625 -1.5\n",
      " -0.          0.          6.83172083  6.         -0.          0.        ]\n"
     ]
    }
   ],
   "source": [
    "# reset the environment\n",
    "env_info = env.reset(train_mode=True)[brain_name]\n",
    "\n",
    "# number of agents \n",
    "num_agents = len(env_info.agents)\n",
    "print('Number of agents:', num_agents)\n",
    "\n",
    "# size of each action\n",
    "action_size = brain.vector_action_space_size\n",
    "print('Size of each action:', action_size)\n",
    "\n",
    "# examine the state space \n",
    "states = env_info.vector_observations\n",
    "state_size = states.shape[1]\n",
    "print('There are {} agents. Each observes a state with length: {}'.format(states.shape[0], state_size))\n",
    "print('The state for the first agent looks like:', states[0])"
   ]
  },
  {
   "cell_type": "markdown",
   "metadata": {},
   "source": [
    "### 3. Take Random Actions in the Environment\n",
    "\n",
    "In the next code cell, you will learn how to use the Python API to control the agent and receive feedback from the environment.\n",
    "\n",
    "Note that **in this coding environment, you will not be able to watch the agents while they are training**, and you should set `train_mode=True` to restart the environment."
   ]
  },
  {
   "cell_type": "code",
   "execution_count": 5,
   "metadata": {},
   "outputs": [],
   "source": [
    "#for i in range(5):                                         # play game for 5 episodes\n",
    "#    env_info = env.reset(train_mode=False)[brain_name]     # reset the environment    \n",
    "#    states = env_info.vector_observations                  # get the current state (for each agent)\n",
    "#    scores = np.zeros(num_agents)                          # initialize the score (for each agent)\n",
    "#    while True:\n",
    "#        actions = np.random.randn(num_agents, action_size) # select an action (for each agent)\n",
    "#        actions = np.clip(actions, -1, 1)                  # all actions between -1 and 1\n",
    "#        env_info = env.step(actions)[brain_name]           # send all actions to tne environment\n",
    "#        next_states = env_info.vector_observations         # get next state (for each agent)\n",
    "#        rewards = env_info.rewards                         # get reward (for each agent)\n",
    "#        dones = env_info.local_done                        # see if episode finished\n",
    "#        scores += env_info.rewards                         # update the score (for each agent)\n",
    "#        states = next_states                               # roll over states to next time step\n",
    "#        if np.any(dones):                                  # exit loop if episode finished\n",
    "#            break\n",
    "#    print('Total score (averaged over agents) this episode: {}'.format(np.mean(scores)))"
   ]
  },
  {
   "cell_type": "markdown",
   "metadata": {},
   "source": [
    "When finished, you can close the environment."
   ]
  },
  {
   "cell_type": "code",
   "execution_count": 6,
   "metadata": {},
   "outputs": [],
   "source": [
    "#env.close()"
   ]
  },
  {
   "cell_type": "markdown",
   "metadata": {},
   "source": [
    "### 4. It's Your Turn!\n",
    "\n",
    "Now it's your turn to train your own agent to solve the environment!  A few **important notes**:\n",
    "- When training the environment, set `train_mode=True`, so that the line for resetting the environment looks like the following:\n",
    "```python\n",
    "env_info = env.reset(train_mode=True)[brain_name]\n",
    "```\n",
    "- To structure your work, you're welcome to work directly in this Jupyter notebook, or you might like to start over with a new file!  You can see the list of files in the workspace by clicking on **_Jupyter_** in the top left corner of the notebook.\n",
    "- In this coding environment, you will not be able to watch the agents while they are training.  However, **_after training the agents_**, you can download the saved model weights to watch the agents on your own machine! "
   ]
  },
  {
   "cell_type": "markdown",
   "metadata": {},
   "source": [
    "## Import necessary packages"
   ]
  },
  {
   "cell_type": "code",
   "execution_count": 7,
   "metadata": {},
   "outputs": [],
   "source": [
    "import matplotlib.pyplot as plt\n",
    "%matplotlib inline\n",
    "import torch\n",
    "from collections import deque\n",
    "\n",
    "# import agent\n",
    "from ddpg_agent import Agent\n",
    "\n",
    "# Record training time\n",
    "import datetime\n",
    "import pytz\n",
    "\n",
    "def get_time(format):\n",
    "    utc_now = pytz.utc.localize(datetime.datetime.utcnow())\n",
    "    pst_now = utc_now.astimezone(pytz.timezone(\"Europe/Brussels\"))\n",
    "    return pst_now.strftime(format)"
   ]
  },
  {
   "cell_type": "markdown",
   "metadata": {},
   "source": [
    "## Initiate evironment and agents"
   ]
  },
  {
   "cell_type": "code",
   "execution_count": 8,
   "metadata": {},
   "outputs": [],
   "source": [
    "# reset the environment\n",
    "env_info = env.reset(train_mode=True)[brain_name]\n",
    "# Setup two independent agents with shared experience memory\n",
    "agent_0 = Agent(state_size, action_size, 1, random_seed=0)\n",
    "agent_1 = Agent(state_size, action_size, 1, random_seed=0)"
   ]
  },
  {
   "cell_type": "markdown",
   "metadata": {},
   "source": [
    "## Training"
   ]
  },
  {
   "cell_type": "code",
   "execution_count": 9,
   "metadata": {},
   "outputs": [
    {
     "name": "stdout",
     "output_type": "stream",
     "text": [
      "Episode 100\tMax Reward: 0.000\tAverage Reward: 0.008\n",
      "Episode 200\tMax Reward: 0.100\tAverage Reward: 0.035\n",
      "Episode 300\tMax Reward: 0.200\tAverage Reward: 0.087\n",
      "Episode 400\tMax Reward: 0.000\tAverage Reward: 0.130\n",
      "Episode 500\tMax Reward: 0.300\tAverage Reward: 0.166\n",
      "Episode 600\tMax Reward: 0.200\tAverage Reward: 0.302\n",
      "Episode 642\tMax Reward: 2.600\tAverage Reward: 0.520\n",
      "*** Environment solved in 642 episodes!\tAverage Score: 0.520\n",
      "Episode 700\tMax Reward: 0.600\tAverage Reward: 0.676\n",
      "\n",
      "*** Better score reached in 700 episodes!\tAverage Score: 0.676\n",
      "Episode 800\tMax Reward: 0.100\tAverage Reward: 0.513\n",
      "Episode 900\tMax Reward: 0.500\tAverage Reward: 0.518\n",
      "Episode 1000\tMax Reward: 0.790\tAverage Reward: 0.484\n",
      "Episode 1100\tMax Reward: 0.300\tAverage Reward: 0.484\n",
      "Episode 1200\tMax Reward: 0.100\tAverage Reward: 0.333\n",
      "Episode 1300\tMax Reward: 0.500\tAverage Reward: 0.296\n",
      "Episode 1400\tMax Reward: 0.300\tAverage Reward: 0.402\n",
      "Episode 1500\tMax Reward: 0.500\tAverage Reward: 0.363\n",
      "Episode 1600\tMax Reward: 0.100\tAverage Reward: 0.234\n",
      "Episode 1700\tMax Reward: 0.300\tAverage Reward: 0.220\n",
      "Episode 1800\tMax Reward: 1.200\tAverage Reward: 0.320\n",
      "Episode 1900\tMax Reward: 0.400\tAverage Reward: 0.237\n",
      "Episode 2000\tMax Reward: 0.100\tAverage Reward: 0.287\n",
      "\n",
      "*** TRAIN STARTED AT 2020-05-09--16:31:43 \n",
      "\n",
      "*** TRAIN FINISHED AT 2020-05-09--19:51:40 \n"
     ]
    }
   ],
   "source": [
    "start_time = get_time('%Y-%m-%d--%H:%M:%S')\n",
    "\n",
    "n_episodes = 2000\n",
    "scores_window = deque(maxlen=100)\n",
    "scores_all = []\n",
    "rolling_average = []\n",
    "WITH_NOISE = True\n",
    "solved = False\n",
    "best_score = 0.0\n",
    "\n",
    "for i_episode in range(1, n_episodes+1):\n",
    "    env_info = env.reset(train_mode=True)[brain_name]      # reset the environment    \n",
    "    states = env_info.vector_observations\n",
    "    states = np.reshape(states, (1,state_size * num_agents))\n",
    "    agent_0.reset()\n",
    "    agent_1.reset()\n",
    "    scores = np.zeros(num_agents)\n",
    "    while True:\n",
    "        action_0 = agent_0.act(states, WITH_NOISE)         # agent 0 chooses an action\n",
    "        action_1 = agent_1.act(states, WITH_NOISE)         # agent 1 chooses an action\n",
    "        actions = np.concatenate((action_0, action_1), axis=0) \n",
    "        actions = np.reshape(actions, (1, action_size * num_agents))\n",
    "        env_info = env.step(actions)[brain_name]           # send actions of both agents to the environment\n",
    "        next_states = env_info.vector_observations         # get next states\n",
    "        next_states = np.reshape(next_states, (1, state_size * num_agents))     \n",
    "        rewards = env_info.rewards                         # get the reward\n",
    "        done = env_info.local_done                         # check if episode finished\n",
    "\n",
    "        agent_0.step(states, actions, rewards[0], next_states, done, 0) # agent 0 learns\n",
    "        agent_1.step(states, actions, rewards[1], next_states, done, 1) # agent 1 learns\n",
    "        scores += rewards                                  # update the score for each agent\n",
    "        states = next_states                               # roll over states to next time step\n",
    "\n",
    "        if np.any(done):                                   # exit loop if episode finished\n",
    "            break\n",
    "\n",
    "    scores_window.append(np.max(scores))\n",
    "    scores_all.append(np.max(scores))\n",
    "    rolling_average.append(np.mean(scores_window))\n",
    "    print('\\rEpisode {}\\tMax Reward: {:.3f}\\tAverage Reward: {:.3f}'.format(\n",
    "        i_episode, np.max(scores), np.mean(scores_window)), end=\"\")\n",
    "                \n",
    "    if i_episode % 100 == 0:\n",
    "        print('\\rEpisode {}\\tMax Reward: {:.3f}\\tAverage Reward: {:.3f}'.format(\n",
    "            i_episode, np.max(scores), np.mean(scores_window)))\n",
    "        if solved and np.mean(scores_window)>best_score:    # only save model weight with best result\n",
    "            print('\\n*** Better score reached in {:d} episodes!\\tAverage Score: {:.3f}'.format(\n",
    "                i_episode, np.mean(scores_window)))\n",
    "            torch.save(agent_0.actor_local.state_dict(), 'checkpoint_actor_0_best.pth')\n",
    "            torch.save(agent_0.critic_local.state_dict(), 'checkpoint_critic_0_best.pth')\n",
    "            torch.save(agent_1.actor_local.state_dict(), 'checkpoint_actor_1_best.pth')\n",
    "            torch.save(agent_1.critic_local.state_dict(), 'checkpoint_critic_1_best.pth')\n",
    "\n",
    "    if np.mean(scores_window)>=0.5 and not solved:\n",
    "        print('\\n*** Environment solved in {:d} episodes!\\tAverage Score: {:.3f}'.format(\n",
    "            i_episode, np.mean(scores_window)))\n",
    "        solved = True\n",
    "        best_score = np.mean(scores_window)\n",
    "        torch.save(agent_0.actor_local.state_dict(), 'checkpoint_actor_0_{}.pth'.format(get_time('%Y-%m-%d--%H:%M:%S')))\n",
    "        torch.save(agent_0.critic_local.state_dict(), 'checkpoint_critic_0_{}.pth'.format(get_time('%Y-%m-%d--%H:%M:%S')))\n",
    "        torch.save(agent_1.actor_local.state_dict(), 'checkpoint_actor_1_{}.pth'.format(get_time('%Y-%m-%d--%H:%M:%S')))\n",
    "        torch.save(agent_1.critic_local.state_dict(), 'checkpoint_critic_1_{}.pth'.format(get_time('%Y-%m-%d--%H:%M:%S')))\n",
    "print (\"\\n*** TRAIN STARTED AT {} \".format(start_time))\n",
    "print (\"\\n*** TRAIN FINISHED AT {} \".format(get_time('%Y-%m-%d--%H:%M:%S')))"
   ]
  },
  {
   "cell_type": "markdown",
   "metadata": {},
   "source": [
    "## Plot the training result"
   ]
  },
  {
   "cell_type": "code",
   "execution_count": 10,
   "metadata": {},
   "outputs": [
    {
     "data": {
      "image/png": "[encoded data removed]",
      "text/plain": [
       "<Figure size 432x288 with 1 Axes>"
      ]
     },
     "metadata": {
      "needs_background": "light"
     },
     "output_type": "display_data"
    }
   ],
   "source": [
    "fig = plt.figure()\n",
    "ax = fig.add_subplot(111)\n",
    "\n",
    "plt.plot(np.arange(1, len(scores_all) + 1), scores_all, label=\"Episode Score\")\n",
    "plt.plot(np.arange(1, len(rolling_average) + 1), \n",
    "    rolling_average, label=\"Average on 100 episodes\") \n",
    "# This line indicates the score at which the environment is considered solved\n",
    "plt.axhline(y=0.5, color=\"r\",  label=\"Solved Requirement\") \n",
    "\n",
    "plt.legend(bbox_to_anchor=(1.05, 1)) \n",
    "plt.ylabel(\"Score\")\n",
    "plt.xlabel(\"Episode # \")\n",
    "plt.show()"
   ]
  },
  {
   "cell_type": "code",
   "execution_count": null,
   "metadata": {},
   "outputs": [],
   "source": []
  }
 ],
 "metadata": {
  "kernelspec": {
   "display_name": "drlnd",
   "language": "python",
   "name": "drlnd"
  },
  "language_info": {
   "codemirror_mode": {
    "name": "ipython",
    "version": 3
   },
   "file_extension": ".py",
   "mimetype": "text/x-python",
   "name": "python",
   "nbconvert_exporter": "python",
   "pygments_lexer": "ipython3",
   "version": "3.6.9"
  }
 },
 "nbformat": 4,
 "nbformat_minor": 2
}
